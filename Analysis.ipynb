{
 "cells": [
  {
   "cell_type": "markdown",
   "metadata": {},
   "source": [
    "## World Development Indicators Database\n",
    "\n",
    "The primary World Bank collection of development indicators, compiled from officially-recognized international sources. It presents the most current and accurate global development data available, and includes national, regional and global estimates.\n",
    "\n",
    "http://data.worldbank.org/data-catalog/world-development-indicators\n",
    "\n",
    "### Codes\n",
    "The world bank uses codes the are strings of the form DT.DIS.PRVT.CD\n",
    "\n",
    "from https://datahelpdesk.worldbank.org/knowledgebase/articles/201175-how-does-the-world-bank-code-its-indicators\n",
    "\n",
    "The Catalog of Economic Time Series (CETS) is a glossary of standard acronyms for the most commonly used social and economic data maintained in the central time series databases of the World Bank. The purpose is to provide an inventory of data available in our World Development Indicators (WDI) and International Debt Statistics (IDS) databases and to suggest a general coding convention for time series data.\n",
    "\n",
    "* Topic (2 digits)\n",
    "* General Subject (3 digits)\n",
    "* Specific Subject (4 digits)\n",
    "* Extensions (2 digits each)\n",
    "\n",
    "For example: DT.DIS.PRVT.CD would read \"External debt disbursements by private creditors in current US dollars.\" \n",
    "\n",
    "The full listing of the codes is in the spreadsheet WDI_CETS.xls in this directory.\n"
   ]
  },
  {
   "cell_type": "markdown",
   "metadata": {},
   "source": [
    "### Data files\n",
    "\n",
    "The data files used in this notebook can be downloaded from \n",
    "\n",
    "* ZIP of csv files from: http://data.worldbank.org/data-catalog/world-development-indicators\n",
    "* .xls file point to a the bottom of this page:\n",
    "https://datahelpdesk.worldbank.org/knowledgebase/articles/201175-how-does-the-world-bank-code-its-indicators\n",
    "\n",
    "The files you should have after downloading and unzipping are:"
   ]
  },
  {
   "cell_type": "raw",
   "metadata": {},
   "source": [
    "\n",
    "The data files:\n",
    "-rwxr-xr-x@ 1 yoavfreund  staff  187627170 Dec 22 11:38 WDI_Data.csv\n",
    "-rwxr-xr-x@ 1 yoavfreund  staff   57082662 Dec 21 11:33 WDI_Footnotes.csv\n",
    "-rwxr-xr-x@ 1 yoavfreund  staff    3512261 Dec 21 11:34 WDI_Series.csv\n",
    "-rwxr-xr-x@ 1 yoavfreund  staff  743577 Jan 13 18:28 WDI_CS_Notes.csv\n",
    "-rwxr-xr-x@ 1 yoavfreund  staff  139169 Dec 21 11:34 WDI_Country.csv\n",
    "\n",
    "The code description spredsheet\n",
    "-rw-r--r--@ 1 yoavfreund  503    396288 Jan 15 14:16 WDI_CETS.xls\n",
    "\n",
    "From the last file you might want to generate WDI_CETS.csv (from the second page)."
   ]
  },
  {
   "cell_type": "code",
   "execution_count": 32,
   "metadata": {
    "collapsed": false
   },
   "outputs": [
    {
     "name": "stdout",
     "output_type": "stream",
     "text": [
      "Populating the interactive namespace from numpy and matplotlib\n"
     ]
    }
   ],
   "source": [
    "import pandas as pd\n",
    "%pylab inline"
   ]
  },
  {
   "cell_type": "code",
   "execution_count": 8,
   "metadata": {
    "collapsed": false
   },
   "outputs": [],
   "source": [
    "codes=pd.read_csv('WDI_CETS.csv')\n",
    "\n",
    "!grep GINI WDI_CETS.csv"
   ]
  },
  {
   "cell_type": "markdown",
   "metadata": {
    "collapsed": false
   },
   "source": [
    "### Interesting series:\n",
    "\n",
    "My goal here was to select a few indicators that measures the overall well being of a country. I found the following indicators by using \"grep\" on \n",
    "WDI_CETS.csv\n",
    "\n",
    "* SP.DYN.LE00.IN\tLife expectancy at birth, total (years)\tHealth\tMortality\t\t\n",
    "* SP.DYN.IMRT.IN\tMortality rate, infant (per 1,000 live births)\tHealth\tMortality\t\t\n",
    "* NY.GDP.MKTP.KD\tGDP (constant 2010 US\\$)\tEconomic Policy & Debt\tNational accounts\tUS\\$ at constant 2010 prices\tAggregate indicators\n",
    "* SI.POV.GINI,GINI index (World Bank estimate),Poverty,Income distribution,,"
   ]
  },
  {
   "cell_type": "code",
   "execution_count": 40,
   "metadata": {
    "collapsed": true
   },
   "outputs": [],
   "source": [
    "used_codes=['SP.DYN.LE00.IN','SP.DYN.IMRT.IN','NY.GDP.MKTP.KD','SI.POV.GINI']"
   ]
  },
  {
   "cell_type": "markdown",
   "metadata": {},
   "source": [
    "### we can get more complete descriptions of each code from WDI_Series.csv"
   ]
  },
  {
   "cell_type": "code",
   "execution_count": 49,
   "metadata": {
    "collapsed": false,
    "scrolled": true
   },
   "outputs": [
    {
     "name": "stdout",
     "output_type": "stream",
     "text": [
      "NY.GDP.MKTP.KD\n",
      "GDP at purchaser's prices is the sum of gross value added by all resident producers in the economy plus any product taxes and minus any subsidies not included in the value of the products. It is calculated without making deductions for depreciation of fabricated assets or for depletion and degradation of natural resources. Data are in constant 2010 U.S. dollars. Dollar figures for GDP are converted from domestic currencies using 2010 official exchange rates. For a few countries where the official exchange rate does not reflect the rate effectively applied to actual foreign exchange transactions, an alternative conversion factor is used.\n",
      "\n",
      "SI.POV.GINI\n",
      "Gini index measures the extent to which the distribution of income (or, in some cases, consumption expenditure) among individuals or households within an economy deviates from a perfectly equal distribution. A Lorenz curve plots the cumulative percentages of total income received against the cumulative number of recipients, starting with the poorest individual or household. The Gini index measures the area between the Lorenz curve and a hypothetical line of absolute equality, expressed as a percentage of the maximum area under the line. Thus a Gini index of 0 represents perfect equality, while an index of 100 implies perfect inequality.\n",
      "\n",
      "SP.DYN.IMRT.IN\n",
      "Infant mortality rate is the number of infants dying before reaching one year of age, per 1,000 live births in a given year.\n",
      "\n",
      "SP.DYN.LE00.IN\n",
      "Life expectancy at birth indicates the number of years a newborn infant would live if prevailing patterns of mortality at the time of its birth were to stay the same throughout its life.\n",
      "\n"
     ]
    }
   ],
   "source": [
    "Series=pd.read_csv('WDI_Series.csv')\n",
    "for r in Series.iterrows():\n",
    "    row=r[1]\n",
    "    code=row['Series Code']\n",
    "    parts=code.split('.')\n",
    "    ldef=row['Long definition']\n",
    "    if code in used_codes:\n",
    "        print code\n",
    "        print ldef\n",
    "        print"
   ]
  },
  {
   "cell_type": "code",
   "execution_count": 50,
   "metadata": {
    "collapsed": false
   },
   "outputs": [
    {
     "data": {
      "text/html": [
       "<div>\n",
       "<table border=\"1\" class=\"dataframe\">\n",
       "  <thead>\n",
       "    <tr style=\"text-align: right;\">\n",
       "      <th></th>\n",
       "      <th>Country Name</th>\n",
       "      <th>Country Code</th>\n",
       "      <th>Indicator Name</th>\n",
       "      <th>Indicator Code</th>\n",
       "      <th>1960</th>\n",
       "      <th>1961</th>\n",
       "      <th>1962</th>\n",
       "      <th>1963</th>\n",
       "      <th>1964</th>\n",
       "      <th>1965</th>\n",
       "      <th>...</th>\n",
       "      <th>2007</th>\n",
       "      <th>2008</th>\n",
       "      <th>2009</th>\n",
       "      <th>2010</th>\n",
       "      <th>2011</th>\n",
       "      <th>2012</th>\n",
       "      <th>2013</th>\n",
       "      <th>2014</th>\n",
       "      <th>2015</th>\n",
       "      <th>2016</th>\n",
       "    </tr>\n",
       "  </thead>\n",
       "  <tbody>\n",
       "    <tr>\n",
       "      <th>0</th>\n",
       "      <td>Arab World</td>\n",
       "      <td>ARB</td>\n",
       "      <td>2005 PPP conversion factor, GDP (LCU per inter...</td>\n",
       "      <td>PA.NUS.PPP.05</td>\n",
       "      <td>NaN</td>\n",
       "      <td>NaN</td>\n",
       "      <td>NaN</td>\n",
       "      <td>NaN</td>\n",
       "      <td>NaN</td>\n",
       "      <td>NaN</td>\n",
       "      <td>...</td>\n",
       "      <td>NaN</td>\n",
       "      <td>NaN</td>\n",
       "      <td>NaN</td>\n",
       "      <td>NaN</td>\n",
       "      <td>NaN</td>\n",
       "      <td>NaN</td>\n",
       "      <td>NaN</td>\n",
       "      <td>NaN</td>\n",
       "      <td>NaN</td>\n",
       "      <td>NaN</td>\n",
       "    </tr>\n",
       "    <tr>\n",
       "      <th>1</th>\n",
       "      <td>Arab World</td>\n",
       "      <td>ARB</td>\n",
       "      <td>2005 PPP conversion factor, private consumptio...</td>\n",
       "      <td>PA.NUS.PRVT.PP.05</td>\n",
       "      <td>NaN</td>\n",
       "      <td>NaN</td>\n",
       "      <td>NaN</td>\n",
       "      <td>NaN</td>\n",
       "      <td>NaN</td>\n",
       "      <td>NaN</td>\n",
       "      <td>...</td>\n",
       "      <td>NaN</td>\n",
       "      <td>NaN</td>\n",
       "      <td>NaN</td>\n",
       "      <td>NaN</td>\n",
       "      <td>NaN</td>\n",
       "      <td>NaN</td>\n",
       "      <td>NaN</td>\n",
       "      <td>NaN</td>\n",
       "      <td>NaN</td>\n",
       "      <td>NaN</td>\n",
       "    </tr>\n",
       "  </tbody>\n",
       "</table>\n",
       "<p>2 rows × 61 columns</p>\n",
       "</div>"
      ],
      "text/plain": [
       "  Country Name Country Code  \\\n",
       "0   Arab World          ARB   \n",
       "1   Arab World          ARB   \n",
       "\n",
       "                                      Indicator Name     Indicator Code  1960  \\\n",
       "0  2005 PPP conversion factor, GDP (LCU per inter...      PA.NUS.PPP.05   NaN   \n",
       "1  2005 PPP conversion factor, private consumptio...  PA.NUS.PRVT.PP.05   NaN   \n",
       "\n",
       "   1961  1962  1963  1964  1965  ...   2007  2008  2009  2010  2011  2012  \\\n",
       "0   NaN   NaN   NaN   NaN   NaN  ...    NaN   NaN   NaN   NaN   NaN   NaN   \n",
       "1   NaN   NaN   NaN   NaN   NaN  ...    NaN   NaN   NaN   NaN   NaN   NaN   \n",
       "\n",
       "   2013  2014  2015  2016  \n",
       "0   NaN   NaN   NaN   NaN  \n",
       "1   NaN   NaN   NaN   NaN  \n",
       "\n",
       "[2 rows x 61 columns]"
      ]
     },
     "execution_count": 50,
     "metadata": {},
     "output_type": "execute_result"
    }
   ],
   "source": [
    "# read the big data file that contains all of the series\n",
    "df=pd.read_csv('big/WDI_Data.csv')\n",
    "df.head(2)"
   ]
  },
  {
   "cell_type": "code",
   "execution_count": 23,
   "metadata": {
    "collapsed": false
   },
   "outputs": [
    {
     "data": {
      "text/plain": [
       "(383328, 61)"
      ]
     },
     "execution_count": 23,
     "metadata": {},
     "output_type": "execute_result"
    }
   ],
   "source": [
    "df.shape"
   ]
  },
  {
   "cell_type": "markdown",
   "metadata": {},
   "source": [
    "### Checking the completeness of the data\n",
    "* There is no row without any nulls, \n",
    "* there are 12,401 rows with just one nan,\n",
    "* there are 29,600 rows with at most 5 nans"
   ]
  },
  {
   "cell_type": "code",
   "execution_count": 34,
   "metadata": {
    "collapsed": false
   },
   "outputs": [
    {
     "data": {
      "text/plain": [
       "<matplotlib.axes._subplots.AxesSubplot at 0x10993cc50>"
      ]
     },
     "execution_count": 34,
     "metadata": {},
     "output_type": "execute_result"
    },
    {
     "data": {
      "image/png": "[encoded data removed]",
      "text/plain": [
       "<matplotlib.figure.Figure at 0x10cef7c10>"
      ]
     },
     "metadata": {},
     "output_type": "display_data"
    }
   ],
   "source": [
    "nans_in_row=df.isnull().sum(axis=1)\n",
    "nans_in_row.hist(bins=30)"
   ]
  },
  {
   "cell_type": "code",
   "execution_count": 52,
   "metadata": {
    "collapsed": false
   },
   "outputs": [
    {
     "name": "stdout",
     "output_type": "stream",
     "text": [
      "(1056, 61)\n"
     ]
    },
    {
     "data": {
      "text/html": [
       "<div>\n",
       "<table border=\"1\" class=\"dataframe\">\n",
       "  <thead>\n",
       "    <tr style=\"text-align: right;\">\n",
       "      <th></th>\n",
       "      <th>Country Name</th>\n",
       "      <th>Country Code</th>\n",
       "      <th>Indicator Name</th>\n",
       "      <th>Indicator Code</th>\n",
       "      <th>1960</th>\n",
       "      <th>1961</th>\n",
       "      <th>1962</th>\n",
       "      <th>1963</th>\n",
       "      <th>1964</th>\n",
       "      <th>1965</th>\n",
       "      <th>...</th>\n",
       "      <th>2007</th>\n",
       "      <th>2008</th>\n",
       "      <th>2009</th>\n",
       "      <th>2010</th>\n",
       "      <th>2011</th>\n",
       "      <th>2012</th>\n",
       "      <th>2013</th>\n",
       "      <th>2014</th>\n",
       "      <th>2015</th>\n",
       "      <th>2016</th>\n",
       "    </tr>\n",
       "  </thead>\n",
       "  <tbody>\n",
       "    <tr>\n",
       "      <th>493</th>\n",
       "      <td>Arab World</td>\n",
       "      <td>ARB</td>\n",
       "      <td>GDP at market prices (constant 2010 US$)</td>\n",
       "      <td>NY.GDP.MKTP.KD</td>\n",
       "      <td>NaN</td>\n",
       "      <td>NaN</td>\n",
       "      <td>NaN</td>\n",
       "      <td>NaN</td>\n",
       "      <td>NaN</td>\n",
       "      <td>NaN</td>\n",
       "      <td>...</td>\n",
       "      <td>1.862506e+12</td>\n",
       "      <td>1.979876e+12</td>\n",
       "      <td>2.009773e+12</td>\n",
       "      <td>2.103839e+12</td>\n",
       "      <td>2.174828e+12</td>\n",
       "      <td>2.293028e+12</td>\n",
       "      <td>2.372044e+12</td>\n",
       "      <td>2.437259e+12</td>\n",
       "      <td>2.515124e+12</td>\n",
       "      <td>NaN</td>\n",
       "    </tr>\n",
       "    <tr>\n",
       "      <th>515</th>\n",
       "      <td>Arab World</td>\n",
       "      <td>ARB</td>\n",
       "      <td>GINI index (World Bank estimate)</td>\n",
       "      <td>SI.POV.GINI</td>\n",
       "      <td>NaN</td>\n",
       "      <td>NaN</td>\n",
       "      <td>NaN</td>\n",
       "      <td>NaN</td>\n",
       "      <td>NaN</td>\n",
       "      <td>NaN</td>\n",
       "      <td>...</td>\n",
       "      <td>NaN</td>\n",
       "      <td>NaN</td>\n",
       "      <td>NaN</td>\n",
       "      <td>NaN</td>\n",
       "      <td>NaN</td>\n",
       "      <td>NaN</td>\n",
       "      <td>NaN</td>\n",
       "      <td>NaN</td>\n",
       "      <td>NaN</td>\n",
       "      <td>NaN</td>\n",
       "    </tr>\n",
       "    <tr>\n",
       "      <th>745</th>\n",
       "      <td>Arab World</td>\n",
       "      <td>ARB</td>\n",
       "      <td>Life expectancy at birth, total (years)</td>\n",
       "      <td>SP.DYN.LE00.IN</td>\n",
       "      <td>46.850022</td>\n",
       "      <td>47.430127</td>\n",
       "      <td>48.008603</td>\n",
       "      <td>48.589765</td>\n",
       "      <td>49.174352</td>\n",
       "      <td>49.757623</td>\n",
       "      <td>...</td>\n",
       "      <td>6.920701e+01</td>\n",
       "      <td>6.941718e+01</td>\n",
       "      <td>6.961893e+01</td>\n",
       "      <td>6.981302e+01</td>\n",
       "      <td>6.999301e+01</td>\n",
       "      <td>7.017367e+01</td>\n",
       "      <td>7.036981e+01</td>\n",
       "      <td>7.056790e+01</td>\n",
       "      <td>NaN</td>\n",
       "      <td>NaN</td>\n",
       "    </tr>\n",
       "    <tr>\n",
       "      <th>832</th>\n",
       "      <td>Arab World</td>\n",
       "      <td>ARB</td>\n",
       "      <td>Mortality rate, infant (per 1,000 live births)</td>\n",
       "      <td>SP.DYN.IMRT.IN</td>\n",
       "      <td>159.950234</td>\n",
       "      <td>155.313614</td>\n",
       "      <td>152.233048</td>\n",
       "      <td>156.521984</td>\n",
       "      <td>152.166551</td>\n",
       "      <td>148.067799</td>\n",
       "      <td>...</td>\n",
       "      <td>3.572123e+01</td>\n",
       "      <td>3.452794e+01</td>\n",
       "      <td>3.335348e+01</td>\n",
       "      <td>3.228170e+01</td>\n",
       "      <td>3.123531e+01</td>\n",
       "      <td>3.033365e+01</td>\n",
       "      <td>2.946448e+01</td>\n",
       "      <td>2.868442e+01</td>\n",
       "      <td>2.798349e+01</td>\n",
       "      <td>NaN</td>\n",
       "    </tr>\n",
       "    <tr>\n",
       "      <th>1945</th>\n",
       "      <td>Caribbean small states</td>\n",
       "      <td>CSS</td>\n",
       "      <td>GDP at market prices (constant 2010 US$)</td>\n",
       "      <td>NY.GDP.MKTP.KD</td>\n",
       "      <td>NaN</td>\n",
       "      <td>NaN</td>\n",
       "      <td>NaN</td>\n",
       "      <td>NaN</td>\n",
       "      <td>NaN</td>\n",
       "      <td>NaN</td>\n",
       "      <td>...</td>\n",
       "      <td>6.125183e+10</td>\n",
       "      <td>6.209477e+10</td>\n",
       "      <td>5.990944e+10</td>\n",
       "      <td>6.076115e+10</td>\n",
       "      <td>6.138985e+10</td>\n",
       "      <td>6.217618e+10</td>\n",
       "      <td>6.319670e+10</td>\n",
       "      <td>6.356587e+10</td>\n",
       "      <td>6.371997e+10</td>\n",
       "      <td>NaN</td>\n",
       "    </tr>\n",
       "  </tbody>\n",
       "</table>\n",
       "<p>5 rows × 61 columns</p>\n",
       "</div>"
      ],
      "text/plain": [
       "                Country Name Country Code  \\\n",
       "493               Arab World          ARB   \n",
       "515               Arab World          ARB   \n",
       "745               Arab World          ARB   \n",
       "832               Arab World          ARB   \n",
       "1945  Caribbean small states          CSS   \n",
       "\n",
       "                                      Indicator Name  Indicator Code  \\\n",
       "493         GDP at market prices (constant 2010 US$)  NY.GDP.MKTP.KD   \n",
       "515                 GINI index (World Bank estimate)     SI.POV.GINI   \n",
       "745          Life expectancy at birth, total (years)  SP.DYN.LE00.IN   \n",
       "832   Mortality rate, infant (per 1,000 live births)  SP.DYN.IMRT.IN   \n",
       "1945        GDP at market prices (constant 2010 US$)  NY.GDP.MKTP.KD   \n",
       "\n",
       "            1960        1961        1962        1963        1964        1965  \\\n",
       "493          NaN         NaN         NaN         NaN         NaN         NaN   \n",
       "515          NaN         NaN         NaN         NaN         NaN         NaN   \n",
       "745    46.850022   47.430127   48.008603   48.589765   49.174352   49.757623   \n",
       "832   159.950234  155.313614  152.233048  156.521984  152.166551  148.067799   \n",
       "1945         NaN         NaN         NaN         NaN         NaN         NaN   \n",
       "\n",
       "      ...           2007          2008          2009          2010  \\\n",
       "493   ...   1.862506e+12  1.979876e+12  2.009773e+12  2.103839e+12   \n",
       "515   ...            NaN           NaN           NaN           NaN   \n",
       "745   ...   6.920701e+01  6.941718e+01  6.961893e+01  6.981302e+01   \n",
       "832   ...   3.572123e+01  3.452794e+01  3.335348e+01  3.228170e+01   \n",
       "1945  ...   6.125183e+10  6.209477e+10  5.990944e+10  6.076115e+10   \n",
       "\n",
       "              2011          2012          2013          2014          2015  \\\n",
       "493   2.174828e+12  2.293028e+12  2.372044e+12  2.437259e+12  2.515124e+12   \n",
       "515            NaN           NaN           NaN           NaN           NaN   \n",
       "745   6.999301e+01  7.017367e+01  7.036981e+01  7.056790e+01           NaN   \n",
       "832   3.123531e+01  3.033365e+01  2.946448e+01  2.868442e+01  2.798349e+01   \n",
       "1945  6.138985e+10  6.217618e+10  6.319670e+10  6.356587e+10  6.371997e+10   \n",
       "\n",
       "      2016  \n",
       "493    NaN  \n",
       "515    NaN  \n",
       "745    NaN  \n",
       "832    NaN  \n",
       "1945   NaN  \n",
       "\n",
       "[5 rows x 61 columns]"
      ]
     },
     "execution_count": 52,
     "metadata": {},
     "output_type": "execute_result"
    }
   ],
   "source": [
    "#extracting rows with one of the 4 codes above.\n",
    "\n",
    "selector=[c in used_codes for c in df['Indicator Code']]\n",
    "indicators=df.loc[selector,:]\n",
    "print shape(indicators)\n",
    "indicators.head()"
   ]
  },
  {
   "cell_type": "code",
   "execution_count": 55,
   "metadata": {
    "collapsed": false
   },
   "outputs": [
    {
     "name": "stdout",
     "output_type": "stream",
     "text": [
      "264\n"
     ]
    }
   ],
   "source": [
    "from collections import Counter\n",
    "country_count=Counter(indicators['Country Name'])\n",
    "for name,c in country_count.items():\n",
    "    if c !=4:\n",
    "        print name,c\n",
    "print len(country_count)"
   ]
  },
  {
   "cell_type": "code",
   "execution_count": 75,
   "metadata": {
    "collapsed": true
   },
   "outputs": [],
   "source": [
    "life=indicators[indicators['Indicator Code']=='SP.DYN.LE00.IN']"
   ]
  },
  {
   "cell_type": "code",
   "execution_count": 67,
   "metadata": {
    "collapsed": false
   },
   "outputs": [
    {
     "data": {
      "image/png": "[encoded data removed]",
      "text/plain": [
       "<matplotlib.figure.Figure at 0x10b3ad410>"
      ]
     },
     "metadata": {},
     "output_type": "display_data"
    }
   ],
   "source": [
    "nans_in_row=life.isnull().sum(axis=1)\n",
    "nans_in_row.hist(bins=30);"
   ]
  },
  {
   "cell_type": "code",
   "execution_count": 68,
   "metadata": {
    "collapsed": false
   },
   "outputs": [
    {
     "data": {
      "text/html": [
       "<div>\n",
       "<table border=\"1\" class=\"dataframe\">\n",
       "  <thead>\n",
       "    <tr style=\"text-align: right;\">\n",
       "      <th></th>\n",
       "      <th>Country Name</th>\n",
       "      <th>Country Code</th>\n",
       "      <th>Indicator Name</th>\n",
       "      <th>Indicator Code</th>\n",
       "      <th>1960</th>\n",
       "      <th>1961</th>\n",
       "      <th>1962</th>\n",
       "      <th>1963</th>\n",
       "      <th>1964</th>\n",
       "      <th>1965</th>\n",
       "      <th>...</th>\n",
       "      <th>2007</th>\n",
       "      <th>2008</th>\n",
       "      <th>2009</th>\n",
       "      <th>2010</th>\n",
       "      <th>2011</th>\n",
       "      <th>2012</th>\n",
       "      <th>2013</th>\n",
       "      <th>2014</th>\n",
       "      <th>2015</th>\n",
       "      <th>2016</th>\n",
       "    </tr>\n",
       "  </thead>\n",
       "  <tbody>\n",
       "    <tr>\n",
       "      <th>745</th>\n",
       "      <td>Arab World</td>\n",
       "      <td>ARB</td>\n",
       "      <td>Life expectancy at birth, total (years)</td>\n",
       "      <td>SP.DYN.LE00.IN</td>\n",
       "      <td>46.850022</td>\n",
       "      <td>47.430127</td>\n",
       "      <td>48.008603</td>\n",
       "      <td>48.589765</td>\n",
       "      <td>49.174352</td>\n",
       "      <td>49.757623</td>\n",
       "      <td>...</td>\n",
       "      <td>69.207008</td>\n",
       "      <td>69.417183</td>\n",
       "      <td>69.618929</td>\n",
       "      <td>69.813025</td>\n",
       "      <td>69.993010</td>\n",
       "      <td>70.173670</td>\n",
       "      <td>70.369806</td>\n",
       "      <td>70.567902</td>\n",
       "      <td>NaN</td>\n",
       "      <td>NaN</td>\n",
       "    </tr>\n",
       "    <tr>\n",
       "      <th>2197</th>\n",
       "      <td>Caribbean small states</td>\n",
       "      <td>CSS</td>\n",
       "      <td>Life expectancy at birth, total (years)</td>\n",
       "      <td>SP.DYN.LE00.IN</td>\n",
       "      <td>62.318212</td>\n",
       "      <td>62.815201</td>\n",
       "      <td>63.271718</td>\n",
       "      <td>63.684322</td>\n",
       "      <td>64.054157</td>\n",
       "      <td>64.383200</td>\n",
       "      <td>...</td>\n",
       "      <td>71.535804</td>\n",
       "      <td>71.761474</td>\n",
       "      <td>71.979368</td>\n",
       "      <td>72.184596</td>\n",
       "      <td>72.373309</td>\n",
       "      <td>72.545485</td>\n",
       "      <td>72.702273</td>\n",
       "      <td>72.844700</td>\n",
       "      <td>NaN</td>\n",
       "      <td>NaN</td>\n",
       "    </tr>\n",
       "    <tr>\n",
       "      <th>3649</th>\n",
       "      <td>Central Europe and the Baltics</td>\n",
       "      <td>CEB</td>\n",
       "      <td>Life expectancy at birth, total (years)</td>\n",
       "      <td>SP.DYN.LE00.IN</td>\n",
       "      <td>67.823762</td>\n",
       "      <td>68.263748</td>\n",
       "      <td>68.007793</td>\n",
       "      <td>68.696368</td>\n",
       "      <td>69.052440</td>\n",
       "      <td>69.276815</td>\n",
       "      <td>...</td>\n",
       "      <td>74.252383</td>\n",
       "      <td>74.577539</td>\n",
       "      <td>74.931826</td>\n",
       "      <td>75.295349</td>\n",
       "      <td>75.888475</td>\n",
       "      <td>75.993489</td>\n",
       "      <td>76.355163</td>\n",
       "      <td>76.563327</td>\n",
       "      <td>NaN</td>\n",
       "      <td>NaN</td>\n",
       "    </tr>\n",
       "    <tr>\n",
       "      <th>5101</th>\n",
       "      <td>Early-demographic dividend</td>\n",
       "      <td>EAR</td>\n",
       "      <td>Life expectancy at birth, total (years)</td>\n",
       "      <td>SP.DYN.LE00.IN</td>\n",
       "      <td>45.147426</td>\n",
       "      <td>45.816490</td>\n",
       "      <td>46.426096</td>\n",
       "      <td>46.975191</td>\n",
       "      <td>47.578820</td>\n",
       "      <td>48.174957</td>\n",
       "      <td>...</td>\n",
       "      <td>66.716841</td>\n",
       "      <td>67.067960</td>\n",
       "      <td>67.419109</td>\n",
       "      <td>67.765239</td>\n",
       "      <td>68.102699</td>\n",
       "      <td>68.428539</td>\n",
       "      <td>68.741762</td>\n",
       "      <td>69.039142</td>\n",
       "      <td>NaN</td>\n",
       "      <td>NaN</td>\n",
       "    </tr>\n",
       "    <tr>\n",
       "      <th>6553</th>\n",
       "      <td>East Asia &amp; Pacific</td>\n",
       "      <td>EAS</td>\n",
       "      <td>Life expectancy at birth, total (years)</td>\n",
       "      <td>SP.DYN.LE00.IN</td>\n",
       "      <td>48.226774</td>\n",
       "      <td>48.755825</td>\n",
       "      <td>49.422961</td>\n",
       "      <td>50.392785</td>\n",
       "      <td>51.584385</td>\n",
       "      <td>52.949617</td>\n",
       "      <td>...</td>\n",
       "      <td>73.584660</td>\n",
       "      <td>73.801308</td>\n",
       "      <td>74.020872</td>\n",
       "      <td>74.194146</td>\n",
       "      <td>74.352831</td>\n",
       "      <td>74.550523</td>\n",
       "      <td>74.738599</td>\n",
       "      <td>74.928507</td>\n",
       "      <td>NaN</td>\n",
       "      <td>NaN</td>\n",
       "    </tr>\n",
       "  </tbody>\n",
       "</table>\n",
       "<p>5 rows × 61 columns</p>\n",
       "</div>"
      ],
      "text/plain": [
       "                        Country Name Country Code  \\\n",
       "745                       Arab World          ARB   \n",
       "2197          Caribbean small states          CSS   \n",
       "3649  Central Europe and the Baltics          CEB   \n",
       "5101      Early-demographic dividend          EAR   \n",
       "6553             East Asia & Pacific          EAS   \n",
       "\n",
       "                               Indicator Name  Indicator Code       1960  \\\n",
       "745   Life expectancy at birth, total (years)  SP.DYN.LE00.IN  46.850022   \n",
       "2197  Life expectancy at birth, total (years)  SP.DYN.LE00.IN  62.318212   \n",
       "3649  Life expectancy at birth, total (years)  SP.DYN.LE00.IN  67.823762   \n",
       "5101  Life expectancy at birth, total (years)  SP.DYN.LE00.IN  45.147426   \n",
       "6553  Life expectancy at birth, total (years)  SP.DYN.LE00.IN  48.226774   \n",
       "\n",
       "           1961       1962       1963       1964       1965  ...        2007  \\\n",
       "745   47.430127  48.008603  48.589765  49.174352  49.757623  ...   69.207008   \n",
       "2197  62.815201  63.271718  63.684322  64.054157  64.383200  ...   71.535804   \n",
       "3649  68.263748  68.007793  68.696368  69.052440  69.276815  ...   74.252383   \n",
       "5101  45.816490  46.426096  46.975191  47.578820  48.174957  ...   66.716841   \n",
       "6553  48.755825  49.422961  50.392785  51.584385  52.949617  ...   73.584660   \n",
       "\n",
       "           2008       2009       2010       2011       2012       2013  \\\n",
       "745   69.417183  69.618929  69.813025  69.993010  70.173670  70.369806   \n",
       "2197  71.761474  71.979368  72.184596  72.373309  72.545485  72.702273   \n",
       "3649  74.577539  74.931826  75.295349  75.888475  75.993489  76.355163   \n",
       "5101  67.067960  67.419109  67.765239  68.102699  68.428539  68.741762   \n",
       "6553  73.801308  74.020872  74.194146  74.352831  74.550523  74.738599   \n",
       "\n",
       "           2014  2015  2016  \n",
       "745   70.567902   NaN   NaN  \n",
       "2197  72.844700   NaN   NaN  \n",
       "3649  76.563327   NaN   NaN  \n",
       "5101  69.039142   NaN   NaN  \n",
       "6553  74.928507   NaN   NaN  \n",
       "\n",
       "[5 rows x 61 columns]"
      ]
     },
     "execution_count": 68,
     "metadata": {},
     "output_type": "execute_result"
    }
   ],
   "source": [
    "life.head()"
   ]
  },
  {
   "cell_type": "code",
   "execution_count": 71,
   "metadata": {
    "collapsed": false
   },
   "outputs": [
    {
     "data": {
      "text/plain": [
       "Index([u'Country Name', u'Country Code', u'Indicator Name', u'Indicator Code',\n",
       "       u'1960', u'1961', u'1962', u'1963', u'1964', u'1965', u'1966', u'1967',\n",
       "       u'1968', u'1969', u'1970', u'1971', u'1972', u'1973', u'1974', u'1975',\n",
       "       u'1976', u'1977', u'1978', u'1979', u'1980', u'1981', u'1982', u'1983',\n",
       "       u'1984', u'1985', u'1986', u'1987', u'1988', u'1989', u'1990', u'1991',\n",
       "       u'1992', u'1993', u'1994', u'1995', u'1996', u'1997', u'1998', u'1999',\n",
       "       u'2000', u'2001', u'2002', u'2003', u'2004', u'2005', u'2006', u'2007',\n",
       "       u'2008', u'2009', u'2010', u'2011', u'2012', u'2013', u'2014', u'2015',\n",
       "       u'2016'],\n",
       "      dtype='object')"
      ]
     },
     "execution_count": 71,
     "metadata": {},
     "output_type": "execute_result"
    }
   ],
   "source": [
    "life.columns"
   ]
  },
  {
   "cell_type": "code",
   "execution_count": 77,
   "metadata": {
    "collapsed": false
   },
   "outputs": [
    {
     "data": {
      "text/html": [
       "<div>\n",
       "<table border=\"1\" class=\"dataframe\">\n",
       "  <thead>\n",
       "    <tr style=\"text-align: right;\">\n",
       "      <th></th>\n",
       "      <th>1960</th>\n",
       "      <th>1961</th>\n",
       "      <th>1962</th>\n",
       "      <th>1963</th>\n",
       "      <th>1964</th>\n",
       "      <th>1965</th>\n",
       "      <th>1966</th>\n",
       "      <th>1967</th>\n",
       "      <th>1968</th>\n",
       "      <th>1969</th>\n",
       "      <th>...</th>\n",
       "      <th>2007</th>\n",
       "      <th>2008</th>\n",
       "      <th>2009</th>\n",
       "      <th>2010</th>\n",
       "      <th>2011</th>\n",
       "      <th>2012</th>\n",
       "      <th>2013</th>\n",
       "      <th>2014</th>\n",
       "      <th>2015</th>\n",
       "      <th>2016</th>\n",
       "    </tr>\n",
       "    <tr>\n",
       "      <th>Country Name</th>\n",
       "      <th></th>\n",
       "      <th></th>\n",
       "      <th></th>\n",
       "      <th></th>\n",
       "      <th></th>\n",
       "      <th></th>\n",
       "      <th></th>\n",
       "      <th></th>\n",
       "      <th></th>\n",
       "      <th></th>\n",
       "      <th></th>\n",
       "      <th></th>\n",
       "      <th></th>\n",
       "      <th></th>\n",
       "      <th></th>\n",
       "      <th></th>\n",
       "      <th></th>\n",
       "      <th></th>\n",
       "      <th></th>\n",
       "      <th></th>\n",
       "      <th></th>\n",
       "    </tr>\n",
       "  </thead>\n",
       "  <tbody>\n",
       "    <tr>\n",
       "      <th>Arab World</th>\n",
       "      <td>46.850022</td>\n",
       "      <td>47.430127</td>\n",
       "      <td>48.008603</td>\n",
       "      <td>48.589765</td>\n",
       "      <td>49.174352</td>\n",
       "      <td>49.757623</td>\n",
       "      <td>50.329993</td>\n",
       "      <td>50.885697</td>\n",
       "      <td>51.424300</td>\n",
       "      <td>51.951877</td>\n",
       "      <td>...</td>\n",
       "      <td>69.207008</td>\n",
       "      <td>69.417183</td>\n",
       "      <td>69.618929</td>\n",
       "      <td>69.813025</td>\n",
       "      <td>69.993010</td>\n",
       "      <td>70.173670</td>\n",
       "      <td>70.369806</td>\n",
       "      <td>70.567902</td>\n",
       "      <td>NaN</td>\n",
       "      <td>NaN</td>\n",
       "    </tr>\n",
       "    <tr>\n",
       "      <th>Caribbean small states</th>\n",
       "      <td>62.318212</td>\n",
       "      <td>62.815201</td>\n",
       "      <td>63.271718</td>\n",
       "      <td>63.684322</td>\n",
       "      <td>64.054157</td>\n",
       "      <td>64.383200</td>\n",
       "      <td>64.676592</td>\n",
       "      <td>64.943985</td>\n",
       "      <td>65.196189</td>\n",
       "      <td>65.441809</td>\n",
       "      <td>...</td>\n",
       "      <td>71.535804</td>\n",
       "      <td>71.761474</td>\n",
       "      <td>71.979368</td>\n",
       "      <td>72.184596</td>\n",
       "      <td>72.373309</td>\n",
       "      <td>72.545485</td>\n",
       "      <td>72.702273</td>\n",
       "      <td>72.844700</td>\n",
       "      <td>NaN</td>\n",
       "      <td>NaN</td>\n",
       "    </tr>\n",
       "    <tr>\n",
       "      <th>Central Europe and the Baltics</th>\n",
       "      <td>67.823762</td>\n",
       "      <td>68.263748</td>\n",
       "      <td>68.007793</td>\n",
       "      <td>68.696368</td>\n",
       "      <td>69.052440</td>\n",
       "      <td>69.276815</td>\n",
       "      <td>69.526955</td>\n",
       "      <td>69.272781</td>\n",
       "      <td>69.536173</td>\n",
       "      <td>69.275899</td>\n",
       "      <td>...</td>\n",
       "      <td>74.252383</td>\n",
       "      <td>74.577539</td>\n",
       "      <td>74.931826</td>\n",
       "      <td>75.295349</td>\n",
       "      <td>75.888475</td>\n",
       "      <td>75.993489</td>\n",
       "      <td>76.355163</td>\n",
       "      <td>76.563327</td>\n",
       "      <td>NaN</td>\n",
       "      <td>NaN</td>\n",
       "    </tr>\n",
       "    <tr>\n",
       "      <th>Early-demographic dividend</th>\n",
       "      <td>45.147426</td>\n",
       "      <td>45.816490</td>\n",
       "      <td>46.426096</td>\n",
       "      <td>46.975191</td>\n",
       "      <td>47.578820</td>\n",
       "      <td>48.174957</td>\n",
       "      <td>48.812944</td>\n",
       "      <td>49.377464</td>\n",
       "      <td>49.923594</td>\n",
       "      <td>50.455238</td>\n",
       "      <td>...</td>\n",
       "      <td>66.716841</td>\n",
       "      <td>67.067960</td>\n",
       "      <td>67.419109</td>\n",
       "      <td>67.765239</td>\n",
       "      <td>68.102699</td>\n",
       "      <td>68.428539</td>\n",
       "      <td>68.741762</td>\n",
       "      <td>69.039142</td>\n",
       "      <td>NaN</td>\n",
       "      <td>NaN</td>\n",
       "    </tr>\n",
       "    <tr>\n",
       "      <th>East Asia &amp; Pacific</th>\n",
       "      <td>48.226774</td>\n",
       "      <td>48.755825</td>\n",
       "      <td>49.422961</td>\n",
       "      <td>50.392785</td>\n",
       "      <td>51.584385</td>\n",
       "      <td>52.949617</td>\n",
       "      <td>54.480857</td>\n",
       "      <td>55.967898</td>\n",
       "      <td>57.343856</td>\n",
       "      <td>58.586759</td>\n",
       "      <td>...</td>\n",
       "      <td>73.584660</td>\n",
       "      <td>73.801308</td>\n",
       "      <td>74.020872</td>\n",
       "      <td>74.194146</td>\n",
       "      <td>74.352831</td>\n",
       "      <td>74.550523</td>\n",
       "      <td>74.738599</td>\n",
       "      <td>74.928507</td>\n",
       "      <td>NaN</td>\n",
       "      <td>NaN</td>\n",
       "    </tr>\n",
       "  </tbody>\n",
       "</table>\n",
       "<p>5 rows × 57 columns</p>\n",
       "</div>"
      ],
      "text/plain": [
       "                                     1960       1961       1962       1963  \\\n",
       "Country Name                                                                 \n",
       "Arab World                      46.850022  47.430127  48.008603  48.589765   \n",
       "Caribbean small states          62.318212  62.815201  63.271718  63.684322   \n",
       "Central Europe and the Baltics  67.823762  68.263748  68.007793  68.696368   \n",
       "Early-demographic dividend      45.147426  45.816490  46.426096  46.975191   \n",
       "East Asia & Pacific             48.226774  48.755825  49.422961  50.392785   \n",
       "\n",
       "                                     1964       1965       1966       1967  \\\n",
       "Country Name                                                                 \n",
       "Arab World                      49.174352  49.757623  50.329993  50.885697   \n",
       "Caribbean small states          64.054157  64.383200  64.676592  64.943985   \n",
       "Central Europe and the Baltics  69.052440  69.276815  69.526955  69.272781   \n",
       "Early-demographic dividend      47.578820  48.174957  48.812944  49.377464   \n",
       "East Asia & Pacific             51.584385  52.949617  54.480857  55.967898   \n",
       "\n",
       "                                     1968       1969  ...        2007  \\\n",
       "Country Name                                          ...               \n",
       "Arab World                      51.424300  51.951877  ...   69.207008   \n",
       "Caribbean small states          65.196189  65.441809  ...   71.535804   \n",
       "Central Europe and the Baltics  69.536173  69.275899  ...   74.252383   \n",
       "Early-demographic dividend      49.923594  50.455238  ...   66.716841   \n",
       "East Asia & Pacific             57.343856  58.586759  ...   73.584660   \n",
       "\n",
       "                                     2008       2009       2010       2011  \\\n",
       "Country Name                                                                 \n",
       "Arab World                      69.417183  69.618929  69.813025  69.993010   \n",
       "Caribbean small states          71.761474  71.979368  72.184596  72.373309   \n",
       "Central Europe and the Baltics  74.577539  74.931826  75.295349  75.888475   \n",
       "Early-demographic dividend      67.067960  67.419109  67.765239  68.102699   \n",
       "East Asia & Pacific             73.801308  74.020872  74.194146  74.352831   \n",
       "\n",
       "                                     2012       2013       2014  2015  2016  \n",
       "Country Name                                                                 \n",
       "Arab World                      70.173670  70.369806  70.567902   NaN   NaN  \n",
       "Caribbean small states          72.545485  72.702273  72.844700   NaN   NaN  \n",
       "Central Europe and the Baltics  75.993489  76.355163  76.563327   NaN   NaN  \n",
       "Early-demographic dividend      68.428539  68.741762  69.039142   NaN   NaN  \n",
       "East Asia & Pacific             74.550523  74.738599  74.928507   NaN   NaN  \n",
       "\n",
       "[5 rows x 57 columns]"
      ]
     },
     "execution_count": 77,
     "metadata": {},
     "output_type": "execute_result"
    }
   ],
   "source": [
    "life=indicators[indicators['Indicator Code']=='SP.DYN.LE00.IN']\n",
    "life=life.drop([u'Country Code', u'Indicator Name', u'Indicator Code'],axis=1)\n",
    "life=life.set_index('Country Name')\n",
    "life.head()"
   ]
  },
  {
   "cell_type": "code",
   "execution_count": 84,
   "metadata": {
    "collapsed": false
   },
   "outputs": [],
   "source": [
    "life=life.transpose()"
   ]
  },
  {
   "cell_type": "code",
   "execution_count": 108,
   "metadata": {
    "collapsed": false
   },
   "outputs": [
    {
     "data": {
      "image/png": "[encoded data removed]",
      "text/plain": [
       "<matplotlib.figure.Figure at 0x110bd0dd0>"
      ]
     },
     "metadata": {},
     "output_type": "display_data"
    }
   ],
   "source": [
    "life[['World','Russian Federation','Bolivia','Arab World','Canada','China','Japan','United States']].plot(figsize=[12,8])\n",
    "grid()"
   ]
  },
  {
   "cell_type": "code",
   "execution_count": 100,
   "metadata": {
    "collapsed": false
   },
   "outputs": [
    {
     "data": {
      "text/plain": [
       "True"
      ]
     },
     "execution_count": 100,
     "metadata": {},
     "output_type": "execute_result"
    }
   ],
   "source": [
    "'United States' in country_count.keys()"
   ]
  },
  {
   "cell_type": "code",
   "execution_count": 109,
   "metadata": {
    "collapsed": false
   },
   "outputs": [],
   "source": [
    "#country_count.keys()"
   ]
  },
  {
   "cell_type": "code",
   "execution_count": null,
   "metadata": {
    "collapsed": true
   },
   "outputs": [],
   "source": []
  }
 ],
 "metadata": {
  "kernelspec": {
   "display_name": "Python 2",
   "language": "python",
   "name": "python2"
  },
  "language_info": {
   "codemirror_mode": {
    "name": "ipython",
    "version": 2
   },
   "file_extension": ".py",
   "mimetype": "text/x-python",
   "name": "python",
   "nbconvert_exporter": "python",
   "pygments_lexer": "ipython2",
   "version": "2.7.12"
  }
 },
 "nbformat": 4,
 "nbformat_minor": 0
}
